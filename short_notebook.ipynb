{
 "cells": [
  {
   "cell_type": "markdown",
   "metadata": {
    "id": "RMA-943Aev9e"
   },
   "source": [
    "# Spiking multicompartment PC network\n",
    "\n",
    "## Abstract\n",
    "Predictive coding is a promising theoretical framework for understanding the hierarchical sensory processing in the brain, yet how it is implemented with cortical spiking neurons is still unclear. While most existing works have taken a hand-wiring approach to creating microcircuits which match experimental results, recent work in applying the optimisation approach revealed that cortical connectivity might result from self-organisation given some fundamental computational principle, ie. energy efficiency. We thus investigated whether predictive coding properties in a multicompartment spiking neural network can result from energy optimisation. We found that only the model trained with an energy objective in addition to a task-relevant objective was able to reconstruct internal representations given top-down expectation signals alone. Neurons in the energy-optimised model also showed differential responses to expected vs unexpected stimuli, qualitatively similar to experimental evidence for predictive coding. These findings indicated that predictive-coding-like behaviour might be an emergent property of energy optimisation, providing a new perspective on how predictive coding could be achieved in the cortex."
   ]
  },
  {
   "cell_type": "code",
   "execution_count": 1,
   "metadata": {
    "colab": {
     "base_uri": "https://localhost:8080/"
    },
    "id": "9e5fUxmZcxfc",
    "outputId": "87a4b8e1-ab15-4a24-dc7e-20a6796837c3"
   },
   "outputs": [
    {
     "name": "stdout",
     "output_type": "stream",
     "text": [
      "cpu\n"
     ]
    },
    {
     "data": {
      "text/plain": [
       "<torch._C.Generator at 0x20ca1458870>"
      ]
     },
     "execution_count": 1,
     "metadata": {},
     "output_type": "execute_result"
    }
   ],
   "source": [
    "%load_ext autoreload\n",
    "%autoreload 2\n",
    "\n",
    "import torch\n",
    "import torch.nn as nn\n",
    "import torch.optim as optim\n",
    "import torchvision.transforms as transforms\n",
    "import torchvision\n",
    "import numpy as np\n",
    "import matplotlib.pyplot as plt\n",
    "import seaborn as sns\n",
    "from tqdm import tqdm\n",
    "\n",
    "from predcoding.snn.network import EnergySNN\n",
    "from predcoding.training import train_fptt, get_stats_named_params, reset_named_params\n",
    "from predcoding.experiments.eval import test\n",
    "from predcoding.experiments.decoder import train_linear_proj\n",
    "from predcoding.utils import count_parameters, save_checkpoint\n",
    "\n",
    "device = torch.device(\"cuda\" if torch.cuda.is_available() else \"cpu\")\n",
    "print(device)\n",
    "\n",
    "# set seed\n",
    "torch.manual_seed(999)"
   ]
  },
  {
   "cell_type": "markdown",
   "metadata": {},
   "source": [
    "## Setup"
   ]
  },
  {
   "cell_type": "markdown",
   "metadata": {},
   "source": [
    "### Dataloaders"
   ]
  },
  {
   "cell_type": "code",
   "execution_count": 2,
   "metadata": {
    "colab": {
     "base_uri": "https://localhost:8080/"
    },
    "id": "qNZglAYUfXQF",
    "outputId": "1e81f699-656e-425f-b289-71eeff15ab2a"
   },
   "outputs": [],
   "source": [
    "transform = transforms.Compose([transforms.ToTensor(), transforms.Normalize((0.5), (0.5))])\n",
    "\n",
    "batch_size = 200\n",
    "\n",
    "traindata = torchvision.datasets.MNIST(root=\"./data\", train=True, download=True, transform=transform)\n",
    "testdata = torchvision.datasets.MNIST(root=\"./data\", train=False, download=True, transform=transform)\n",
    "\n",
    "# data loading\n",
    "train_loader = torch.utils.data.DataLoader(traindata, batch_size=batch_size, shuffle=False, num_workers=2)\n",
    "test_loader = torch.utils.data.DataLoader(testdata, batch_size=batch_size, shuffle=False, num_workers=2)"
   ]
  },
  {
   "cell_type": "markdown",
   "metadata": {
    "id": "R_DORsdsg-TS"
   },
   "source": [
    "### Defining the network"
   ]
  },
  {
   "cell_type": "code",
   "execution_count": 4,
   "metadata": {
    "id": "oaqFPBCFg0vF"
   },
   "outputs": [],
   "source": [
    "# network parameters\n",
    "use_alif_neurons = True  # whether use adaptive neuron or not\n",
    "clf_alpha = 1\n",
    "energy_alpha = 0.05  # - config.clf_alpha\n",
    "spike_alpha = 0.0  # energy loss on spikes\n",
    "num_readout = 10\n",
    "one_to_one = True\n",
    "lr = 1e-3\n",
    "alg = \"fptt\"\n",
    "p_dropout = 0.4\n",
    "is_recurrent = False\n",
    "b_0 = 0.1      # neural threshold baseline\n",
    "R_m = 3         # membrane resistance\n",
    "gamma = 0.5     # gradient scale\n",
    "lens = 0.5\n",
    "baseline_threshold = b_0\n",
    "\n",
    "# training parameters\n",
    "T = 50\n",
    "K = 10  # k_updates is num updates per sequence\n",
    "omega = int(T / K)  # update frequency\n",
    "clip = 1.0\n",
    "log_interval = 20\n",
    "epochs = 35\n",
    "alpha = 0.2\n",
    "beta = 0.5\n",
    "rho = 0.0 "
   ]
  },
  {
   "cell_type": "code",
   "execution_count": 5,
   "metadata": {
    "colab": {
     "base_uri": "https://localhost:8080/"
    },
    "id": "1d1UjhDUjV45",
    "outputId": "7d1ee2d2-8484-4744-c6c8-606b2ad1f912"
   },
   "outputs": [
    {
     "name": "stdout",
     "output_type": "stream",
     "text": [
      "total param count 476020\n"
     ]
    }
   ],
   "source": [
    "# set input and t param\n",
    "d_in = 784\n",
    "d_hidden = [600, 500, 500]\n",
    "n_classes = 10\n",
    "\n",
    "# define network\n",
    "model = EnergySNN(\n",
    "    d_in,\n",
    "    d_hidden,\n",
    "    d_out=n_classes,\n",
    "    is_adaptive=use_alif_neurons,\n",
    "    one_to_one=one_to_one,\n",
    "    p_dropout=p_dropout,\n",
    "    is_recurrent=is_recurrent,\n",
    "    b0=b_0,\n",
    "    device=device\n",
    ")\n",
    "model.to(device)\n",
    "# print(model)\n",
    "\n",
    "# define new loss and optimiser\n",
    "total_params = count_parameters(model)\n",
    "print(\"total param count %i\" % total_params)\n",
    "\n",
    "# define optimiser\n",
    "optimizer = optim.Adamax(model.parameters(), lr=lr, weight_decay=0.0001)\n",
    "# reduce the learning after 20 epochs by a factor of 10\n",
    "scheduler = optim.lr_scheduler.StepLR(optimizer, step_size=2, gamma=0.5)"
   ]
  },
  {
   "cell_type": "markdown",
   "metadata": {
    "id": "EA-seG48koNP"
   },
   "source": [
    "## Train & test"
   ]
  },
  {
   "cell_type": "code",
   "execution_count": 5,
   "metadata": {
    "colab": {
     "base_uri": "https://localhost:8080/"
    },
    "id": "CVlGea6ClBuJ",
    "outputId": "d6beec93-15da-49f4-b3ba-a126b2bcc2fd"
   },
   "outputs": [],
   "source": [
    "# untrained network\n",
    "# test_loss, acc1 = test(model, test_loader, T)"
   ]
  },
  {
   "cell_type": "code",
   "execution_count": null,
   "metadata": {
    "colab": {
     "base_uri": "https://localhost:8080/"
    },
    "id": "mq_ifdLDkDY4",
    "outputId": "988e9a43-d50f-4f14-b933-e952d1a650c0"
   },
   "outputs": [
    {
     "name": "stdout",
     "output_type": "stream",
     "text": [
      "Train Epoch: 0 [3800/60000 (6%)]\tenerg: 390.967174\tlr: 0.001000\ttrain acc:49.0500\tLoss: 54.490126                \tClf: 36.731866\tReg: -1.790099\tFr_p: 0.418580\tFr_r: 0.289140\n",
      "Train Epoch: 0 [7800/60000 (13%)]\tenerg: 366.436228\tlr: 0.001000\ttrain acc:72.3250\tLoss: 34.642851                \tClf: 17.206363\tReg: -0.885324\tFr_p: 0.418014\tFr_r: 0.291771\n",
      "Train Epoch: 0 [11800/60000 (20%)]\tenerg: 357.220207\tlr: 0.001000\ttrain acc:77.3250\tLoss: 32.945573                \tClf: 15.796360\tReg: -0.711798\tFr_p: 0.413816\tFr_r: 0.291733\n",
      "Train Epoch: 0 [15800/60000 (26%)]\tenerg: 350.459910\tlr: 0.001000\ttrain acc:78.0000\tLoss: 33.274104                \tClf: 16.324071\tReg: -0.572963\tFr_p: 0.409717\tFr_r: 0.291245\n",
      "Train Epoch: 0 [19800/60000 (33%)]\tenerg: 346.626029\tlr: 0.001000\ttrain acc:80.9500\tLoss: 31.714674                \tClf: 14.861490\tReg: -0.478118\tFr_p: 0.406958\tFr_r: 0.290898\n",
      "Train Epoch: 0 [23800/60000 (40%)]\tenerg: 342.982553\tlr: 0.001000\ttrain acc:83.6250\tLoss: 30.303651                \tClf: 13.517346\tReg: -0.362823\tFr_p: 0.407675\tFr_r: 0.291701\n",
      "Train Epoch: 0 [27800/60000 (46%)]\tenerg: 339.712610\tlr: 0.001000\ttrain acc:84.6000\tLoss: 30.199482                \tClf: 13.526487\tReg: -0.312635\tFr_p: 0.404584\tFr_r: 0.290669\n",
      "Train Epoch: 0 [31800/60000 (53%)]\tenerg: 337.280650\tlr: 0.001000\ttrain acc:83.4500\tLoss: 31.433112                \tClf: 14.824118\tReg: -0.255038\tFr_p: 0.403606\tFr_r: 0.290460\n",
      "Train Epoch: 0 [35800/60000 (60%)]\tenerg: 337.227680\tlr: 0.001000\ttrain acc:86.1000\tLoss: 29.882046                \tClf: 13.225298\tReg: -0.204636\tFr_p: 0.403272\tFr_r: 0.290488\n",
      "Train Epoch: 0 [39800/60000 (66%)]\tenerg: 334.465537\tlr: 0.001000\ttrain acc:84.9000\tLoss: 29.978985                \tClf: 13.430825\tReg: -0.175117\tFr_p: 0.401483\tFr_r: 0.290066\n",
      "Train Epoch: 0 [43800/60000 (73%)]\tenerg: 332.467487\tlr: 0.001000\ttrain acc:86.4500\tLoss: 28.986820                \tClf: 12.498325\tReg: -0.134880\tFr_p: 0.401405\tFr_r: 0.289988\n",
      "Train Epoch: 0 [47800/60000 (80%)]\tenerg: 331.518993\tlr: 0.001000\ttrain acc:86.4750\tLoss: 29.050454                \tClf: 12.592745\tReg: -0.118241\tFr_p: 0.400877\tFr_r: 0.290018\n",
      "Train Epoch: 0 [51800/60000 (86%)]\tenerg: 331.514012\tlr: 0.001000\ttrain acc:86.1500\tLoss: 30.968019                \tClf: 14.495957\tReg: -0.103639\tFr_p: 0.400634\tFr_r: 0.289801\n",
      "Train Epoch: 0 [55800/60000 (93%)]\tenerg: 330.754493\tlr: 0.001000\ttrain acc:87.7750\tLoss: 28.450419                \tClf: 11.997209\tReg: -0.084515\tFr_p: 0.399806\tFr_r: 0.290011\n",
      "Train Epoch: 0 [59800/60000 (100%)]\tenerg: 329.049256\tlr: 0.001000\ttrain acc:91.9500\tLoss: 25.811703                \tClf: 9.421317\tReg: -0.062076\tFr_p: 0.400682\tFr_r: 0.289737\n"
     ]
    },
    {
     "name": "stderr",
     "output_type": "stream",
     "text": [
      "100%|██████████| 50/50 [00:30<00:00,  1.66it/s]\n"
     ]
    },
    {
     "name": "stdout",
     "output_type": "stream",
     "text": [
      "\n",
      "Test set: Average loss: 0.9531, Accuracy: 6798/10000 (68%)\n",
      "\n",
      "saving at  checkpoints/best_model.pt.tar\n",
      "Train Epoch: 1 [3800/60000 (6%)]\tenerg: 330.759386\tlr: 0.001000\ttrain acc:88.8250\tLoss: 28.927290                \tClf: 12.444719\tReg: -0.055398\tFr_p: 1.430224\tFr_r: 1.016133\n",
      "Train Epoch: 1 [7800/60000 (13%)]\tenerg: 329.146564\tlr: 0.001000\ttrain acc:88.0250\tLoss: 29.208036                \tClf: 12.799161\tReg: -0.048454\tFr_p: 0.399781\tFr_r: 0.289636\n",
      "Train Epoch: 1 [11800/60000 (20%)]\tenerg: 327.341185\tlr: 0.001000\ttrain acc:88.3500\tLoss: 28.345962                \tClf: 12.022689\tReg: -0.043786\tFr_p: 0.399571\tFr_r: 0.288833\n",
      "Train Epoch: 1 [15800/60000 (26%)]\tenerg: 327.187489\tlr: 0.001000\ttrain acc:86.4500\tLoss: 28.996906                \tClf: 12.669868\tReg: -0.032337\tFr_p: 0.398674\tFr_r: 0.288623\n",
      "Train Epoch: 1 [19800/60000 (33%)]\tenerg: 328.349458\tlr: 0.001000\ttrain acc:88.8000\tLoss: 28.085715                \tClf: 11.696363\tReg: -0.028121\tFr_p: 0.398725\tFr_r: 0.289012\n",
      "Train Epoch: 1 [23800/60000 (40%)]\tenerg: 328.907385\tlr: 0.001000\ttrain acc:88.0500\tLoss: 28.085748                \tClf: 11.664305\tReg: -0.023926\tFr_p: 0.400084\tFr_r: 0.289636\n",
      "Train Epoch: 1 [27800/60000 (46%)]\tenerg: 327.684913\tlr: 0.001000\ttrain acc:88.0000\tLoss: 27.850021                \tClf: 11.483674\tReg: -0.017899\tFr_p: 0.400000\tFr_r: 0.289029\n",
      "Train Epoch: 1 [31800/60000 (53%)]\tenerg: 325.707589\tlr: 0.001000\ttrain acc:86.8500\tLoss: 28.334007                \tClf: 12.065441\tReg: -0.016813\tFr_p: 0.398412\tFr_r: 0.288048\n",
      "Train Epoch: 1 [35800/60000 (60%)]\tenerg: 327.567651\tlr: 0.001000\ttrain acc:87.7750\tLoss: 29.147986                \tClf: 12.781683\tReg: -0.012080\tFr_p: 0.398827\tFr_r: 0.287923\n",
      "Train Epoch: 1 [39800/60000 (66%)]\tenerg: 325.537362\tlr: 0.001000\ttrain acc:89.5000\tLoss: 27.656709                \tClf: 11.392879\tReg: -0.013038\tFr_p: 0.398971\tFr_r: 0.287706\n",
      "Train Epoch: 1 [43800/60000 (73%)]\tenerg: 326.315756\tlr: 0.001000\ttrain acc:88.0000\tLoss: 29.013882                \tClf: 12.705295\tReg: -0.007201\tFr_p: 0.399690\tFr_r: 0.287875\n",
      "Train Epoch: 1 [47800/60000 (80%)]\tenerg: 325.579881\tlr: 0.001000\ttrain acc:88.5750\tLoss: 27.261684                \tClf: 10.990087\tReg: -0.007397\tFr_p: 0.399565\tFr_r: 0.287988\n",
      "Train Epoch: 1 [51800/60000 (86%)]\tenerg: 325.185424\tlr: 0.001000\ttrain acc:89.3750\tLoss: 28.230452                \tClf: 11.980813\tReg: -0.009633\tFr_p: 0.398029\tFr_r: 0.288090\n",
      "Train Epoch: 1 [55800/60000 (93%)]\tenerg: 326.988723\tlr: 0.001000\ttrain acc:88.7750\tLoss: 28.483890                \tClf: 12.137167\tReg: -0.002714\tFr_p: 0.399678\tFr_r: 0.288221\n",
      "Train Epoch: 1 [59800/60000 (100%)]\tenerg: 324.882362\tlr: 0.001000\ttrain acc:91.6750\tLoss: 23.710012                \tClf: 7.463069\tReg: 0.002825\tFr_p: 0.400139\tFr_r: 0.287813\n"
     ]
    },
    {
     "name": "stderr",
     "output_type": "stream",
     "text": [
      "100%|██████████| 50/50 [00:34<00:00,  1.43it/s]\n"
     ]
    },
    {
     "name": "stdout",
     "output_type": "stream",
     "text": [
      "\n",
      "Test set: Average loss: 0.9688, Accuracy: 7002/10000 (70%)\n",
      "\n",
      "saving at  checkpoints/best_model.pt.tar\n",
      "Train Epoch: 2 [3800/60000 (6%)]\tenerg: 319.296004\tlr: 0.001000\ttrain acc:90.6000\tLoss: 24.761642                \tClf: 8.802653\tReg: -0.005811\tFr_p: 1.416110\tFr_r: 1.006354\n",
      "Train Epoch: 2 [7800/60000 (13%)]\tenerg: 318.896139\tlr: 0.001000\ttrain acc:89.5250\tLoss: 24.705159                \tClf: 8.761852\tReg: -0.001500\tFr_p: 0.396311\tFr_r: 0.286939\n",
      "Train Epoch: 2 [11800/60000 (20%)]\tenerg: 319.203751\tlr: 0.001000\ttrain acc:90.7000\tLoss: 24.328900                \tClf: 8.371858\tReg: -0.003147\tFr_p: 0.396540\tFr_r: 0.286649\n",
      "Train Epoch: 2 [15800/60000 (26%)]\tenerg: 318.942050\tlr: 0.001000\ttrain acc:88.6250\tLoss: 26.126554                \tClf: 10.182688\tReg: -0.003237\tFr_p: 0.394858\tFr_r: 0.286538\n",
      "Train Epoch: 2 [19800/60000 (33%)]\tenerg: 318.067612\tlr: 0.001000\ttrain acc:90.5500\tLoss: 24.840293                \tClf: 8.936021\tReg: 0.000891\tFr_p: 0.395055\tFr_r: 0.286184\n",
      "Train Epoch: 2 [23800/60000 (40%)]\tenerg: 318.356922\tlr: 0.001000\ttrain acc:89.3750\tLoss: 25.093011                \tClf: 9.178844\tReg: -0.003679\tFr_p: 0.395602\tFr_r: 0.286110\n",
      "Train Epoch: 2 [27800/60000 (46%)]\tenerg: 317.750824\tlr: 0.001000\ttrain acc:89.9000\tLoss: 24.672148                \tClf: 8.784607\tReg: -0.000001\tFr_p: 0.394889\tFr_r: 0.286351\n",
      "Train Epoch: 2 [31800/60000 (53%)]\tenerg: 317.208714\tlr: 0.001000\ttrain acc:88.7000\tLoss: 26.038379                \tClf: 10.179382\tReg: -0.001439\tFr_p: 0.393950\tFr_r: 0.285890\n",
      "Train Epoch: 2 [35800/60000 (60%)]\tenerg: 317.766930\tlr: 0.001000\ttrain acc:89.9500\tLoss: 24.571868                \tClf: 8.684707\tReg: -0.001186\tFr_p: 0.394726\tFr_r: 0.285944\n",
      "Train Epoch: 2 [39800/60000 (66%)]\tenerg: 317.363380\tlr: 0.001000\ttrain acc:90.5000\tLoss: 25.111295                \tClf: 9.243050\tReg: 0.000075\tFr_p: 0.394382\tFr_r: 0.285394\n",
      "Train Epoch: 2 [43800/60000 (73%)]\tenerg: 316.846507\tlr: 0.001000\ttrain acc:89.2750\tLoss: 24.977447                \tClf: 9.133818\tReg: 0.001304\tFr_p: 0.394346\tFr_r: 0.285441\n",
      "Train Epoch: 2 [47800/60000 (80%)]\tenerg: 317.018413\tlr: 0.001000\ttrain acc:90.0750\tLoss: 24.913797                \tClf: 9.064640\tReg: -0.001764\tFr_p: 0.393969\tFr_r: 0.286049\n",
      "Train Epoch: 2 [51800/60000 (86%)]\tenerg: 317.376180\tlr: 0.001000\ttrain acc:89.6750\tLoss: 25.356320                \tClf: 9.488031\tReg: -0.000521\tFr_p: 0.394582\tFr_r: 0.286121\n",
      "Train Epoch: 2 [55800/60000 (93%)]\tenerg: 317.214602\tlr: 0.001000\ttrain acc:90.7500\tLoss: 24.855689                \tClf: 8.994445\tReg: 0.000514\tFr_p: 0.394473\tFr_r: 0.286166\n",
      "Train Epoch: 2 [59800/60000 (100%)]\tenerg: 316.451112\tlr: 0.001000\ttrain acc:92.5250\tLoss: 22.876542                \tClf: 7.051497\tReg: 0.002490\tFr_p: 0.394409\tFr_r: 0.285978\n"
     ]
    },
    {
     "name": "stderr",
     "output_type": "stream",
     "text": [
      "100%|██████████| 50/50 [00:29<00:00,  1.68it/s]\n"
     ]
    },
    {
     "name": "stdout",
     "output_type": "stream",
     "text": [
      "\n",
      "Test set: Average loss: 0.5562, Accuracy: 8330/10000 (83%)\n",
      "\n",
      "saving at  checkpoints/best_model.pt.tar\n",
      "Train Epoch: 3 [3800/60000 (6%)]\tenerg: 316.918734\tlr: 0.001000\ttrain acc:91.7000\tLoss: 24.220710                \tClf: 8.376674\tReg: -0.001901\tFr_p: 1.397934\tFr_r: 0.998981\n",
      "Train Epoch: 3 [7800/60000 (13%)]\tenerg: 316.761026\tlr: 0.001000\ttrain acc:91.2250\tLoss: 24.229272                \tClf: 8.389651\tReg: 0.001569\tFr_p: 0.394018\tFr_r: 0.286149\n",
      "Train Epoch: 3 [11800/60000 (20%)]\tenerg: 317.798767\tlr: 0.001000\ttrain acc:90.6750\tLoss: 24.652852                \tClf: 8.764057\tReg: -0.001144\tFr_p: 0.394076\tFr_r: 0.285640\n",
      "Train Epoch: 3 [15800/60000 (26%)]\tenerg: 317.446925\tlr: 0.001000\ttrain acc:88.5250\tLoss: 25.868836                \tClf: 9.995905\tReg: 0.000584\tFr_p: 0.392855\tFr_r: 0.285459\n",
      "Train Epoch: 3 [19800/60000 (33%)]\tenerg: 317.166155\tlr: 0.001000\ttrain acc:91.1250\tLoss: 23.679117                \tClf: 7.818160\tReg: 0.002649\tFr_p: 0.395367\tFr_r: 0.285757\n",
      "Train Epoch: 3 [23800/60000 (40%)]\tenerg: 317.821465\tlr: 0.001000\ttrain acc:89.9500\tLoss: 25.174569                \tClf: 9.283976\tReg: -0.000480\tFr_p: 0.394415\tFr_r: 0.285187\n",
      "Train Epoch: 3 [27800/60000 (46%)]\tenerg: 317.276160\tlr: 0.001000\ttrain acc:91.3250\tLoss: 24.258275                \tClf: 8.392629\tReg: 0.001838\tFr_p: 0.393981\tFr_r: 0.285282\n",
      "Train Epoch: 3 [31800/60000 (53%)]\tenerg: 316.364699\tlr: 0.001000\ttrain acc:89.3750\tLoss: 25.667876                \tClf: 9.848314\tReg: 0.001327\tFr_p: 0.393537\tFr_r: 0.284987\n",
      "Train Epoch: 3 [35800/60000 (60%)]\tenerg: 317.757135\tlr: 0.001000\ttrain acc:91.2750\tLoss: 24.380802                \tClf: 8.490747\tReg: 0.002199\tFr_p: 0.394774\tFr_r: 0.285687\n",
      "Train Epoch: 3 [39800/60000 (66%)]\tenerg: 317.262708\tlr: 0.001000\ttrain acc:90.7500\tLoss: 24.677913                \tClf: 8.814368\tReg: 0.000410\tFr_p: 0.394156\tFr_r: 0.285123\n",
      "Train Epoch: 3 [43800/60000 (73%)]\tenerg: 316.066135\tlr: 0.001000\ttrain acc:90.5250\tLoss: 24.320746                \tClf: 8.516280\tReg: 0.001159\tFr_p: 0.394353\tFr_r: 0.285082\n",
      "Train Epoch: 3 [47800/60000 (80%)]\tenerg: 317.185695\tlr: 0.001000\ttrain acc:90.5500\tLoss: 24.581879                \tClf: 8.721502\tReg: 0.001092\tFr_p: 0.393925\tFr_r: 0.285382\n",
      "Train Epoch: 3 [51800/60000 (86%)]\tenerg: 317.856743\tlr: 0.001000\ttrain acc:90.9000\tLoss: 25.036304                \tClf: 9.143179\tReg: 0.000288\tFr_p: 0.394408\tFr_r: 0.285943\n",
      "Train Epoch: 3 [55800/60000 (93%)]\tenerg: 317.077516\tlr: 0.001000\ttrain acc:90.5750\tLoss: 24.738364                \tClf: 8.884207\tReg: 0.000281\tFr_p: 0.394420\tFr_r: 0.285583\n",
      "Train Epoch: 3 [59800/60000 (100%)]\tenerg: 316.589087\tlr: 0.001000\ttrain acc:93.2500\tLoss: 22.499115                \tClf: 6.665804\tReg: 0.003857\tFr_p: 0.394879\tFr_r: 0.285136\n"
     ]
    },
    {
     "name": "stderr",
     "output_type": "stream",
     "text": [
      "100%|██████████| 50/50 [00:33<00:00,  1.48it/s]\n"
     ]
    },
    {
     "name": "stdout",
     "output_type": "stream",
     "text": [
      "\n",
      "Test set: Average loss: 0.4976, Accuracy: 8460/10000 (85%)\n",
      "\n",
      "saving at  checkpoints/best_model.pt.tar\n",
      "Train Epoch: 4 [3800/60000 (6%)]\tenerg: 314.617987\tlr: 0.001000\ttrain acc:92.0000\tLoss: 22.703818                \tClf: 6.974859\tReg: -0.001941\tFr_p: 1.398164\tFr_r: 0.998688\n",
      "Train Epoch: 4 [7800/60000 (13%)]\tenerg: 313.126745\tlr: 0.001000\ttrain acc:91.4250\tLoss: 23.137596                \tClf: 7.482856\tReg: -0.001597\tFr_p: 0.394206\tFr_r: 0.285080\n",
      "Train Epoch: 4 [11800/60000 (20%)]\tenerg: 313.812318\tlr: 0.001000\ttrain acc:91.8000\tLoss: 22.890770                \tClf: 7.200889\tReg: -0.000735\tFr_p: 0.393201\tFr_r: 0.284823\n",
      "Train Epoch: 4 [15800/60000 (26%)]\tenerg: 314.007093\tlr: 0.001000\ttrain acc:90.4000\tLoss: 24.013670                \tClf: 8.312645\tReg: 0.000670\tFr_p: 0.393731\tFr_r: 0.285369\n",
      "Train Epoch: 4 [19800/60000 (33%)]\tenerg: 314.130572\tlr: 0.001000\ttrain acc:91.7250\tLoss: 23.219591                \tClf: 7.512708\tReg: 0.000354\tFr_p: 0.393108\tFr_r: 0.285215\n",
      "Train Epoch: 4 [23800/60000 (40%)]\tenerg: 313.962471\tlr: 0.001000\ttrain acc:91.4750\tLoss: 23.087419                \tClf: 7.389815\tReg: -0.000520\tFr_p: 0.394428\tFr_r: 0.284952\n",
      "Train Epoch: 4 [27800/60000 (46%)]\tenerg: 314.220332\tlr: 0.001000\ttrain acc:91.8500\tLoss: 23.361630                \tClf: 7.649824\tReg: 0.000789\tFr_p: 0.393609\tFr_r: 0.285355\n",
      "Train Epoch: 4 [31800/60000 (53%)]\tenerg: 313.681732\tlr: 0.001000\ttrain acc:90.5750\tLoss: 23.643336                \tClf: 7.958938\tReg: 0.000311\tFr_p: 0.393529\tFr_r: 0.284876\n",
      "Train Epoch: 4 [35800/60000 (60%)]\tenerg: 313.577434\tlr: 0.001000\ttrain acc:91.4750\tLoss: 22.805718                \tClf: 7.126345\tReg: 0.000501\tFr_p: 0.393131\tFr_r: 0.284540\n",
      "Train Epoch: 4 [39800/60000 (66%)]\tenerg: 313.723352\tlr: 0.001000\ttrain acc:91.4500\tLoss: 23.329797                \tClf: 7.643602\tReg: 0.000028\tFr_p: 0.394532\tFr_r: 0.285524\n",
      "Train Epoch: 4 [43800/60000 (73%)]\tenerg: 313.441578\tlr: 0.001000\ttrain acc:90.9500\tLoss: 23.352654                \tClf: 7.679671\tReg: 0.000904\tFr_p: 0.392708\tFr_r: 0.285085\n",
      "Train Epoch: 4 [47800/60000 (80%)]\tenerg: 313.870872\tlr: 0.001000\ttrain acc:90.7500\tLoss: 23.201638                \tClf: 7.507605\tReg: 0.000489\tFr_p: 0.393277\tFr_r: 0.285010\n",
      "Train Epoch: 4 [51800/60000 (86%)]\tenerg: 314.441853\tlr: 0.001000\ttrain acc:91.2000\tLoss: 23.663299                \tClf: 7.941919\tReg: -0.000713\tFr_p: 0.393249\tFr_r: 0.285665\n",
      "Train Epoch: 4 [55800/60000 (93%)]\tenerg: 313.733083\tlr: 0.001000\ttrain acc:90.9750\tLoss: 23.217622                \tClf: 7.530530\tReg: 0.000438\tFr_p: 0.393258\tFr_r: 0.285378\n",
      "Train Epoch: 4 [59800/60000 (100%)]\tenerg: 313.459153\tlr: 0.001000\ttrain acc:93.8000\tLoss: 21.358524                \tClf: 5.684676\tReg: 0.000890\tFr_p: 0.393991\tFr_r: 0.285118\n"
     ]
    },
    {
     "name": "stderr",
     "output_type": "stream",
     "text": [
      "100%|██████████| 50/50 [00:34<00:00,  1.44it/s]\n"
     ]
    },
    {
     "name": "stdout",
     "output_type": "stream",
     "text": [
      "\n",
      "Test set: Average loss: 0.3455, Accuracy: 8888/10000 (89%)\n",
      "\n",
      "saving at  checkpoints/best_model.pt.tar\n",
      "Train Epoch: 5 [3800/60000 (6%)]\tenerg: 313.251728\tlr: 0.001000\ttrain acc:92.3250\tLoss: 22.466409                \tClf: 6.803832\tReg: -0.000009\tFr_p: 1.381197\tFr_r: 0.997456\n",
      "Train Epoch: 5 [7800/60000 (13%)]\tenerg: 313.054549\tlr: 0.001000\ttrain acc:91.4500\tLoss: 23.158213                \tClf: 7.505762\tReg: -0.000276\tFr_p: 0.393525\tFr_r: 0.284882\n"
     ]
    },
    {
     "ename": "KeyboardInterrupt",
     "evalue": "",
     "output_type": "error",
     "traceback": [
      "\u001b[1;31m---------------------------------------------------------------------------\u001b[0m",
      "\u001b[1;31mKeyboardInterrupt\u001b[0m                         Traceback (most recent call last)",
      "Cell \u001b[1;32mIn[7], line 6\u001b[0m\n\u001b[0;32m      3\u001b[0m best_acc1 \u001b[38;5;241m=\u001b[39m \u001b[38;5;241m0\u001b[39m\n\u001b[0;32m      5\u001b[0m \u001b[38;5;28;01mfor\u001b[39;00m epoch \u001b[38;5;129;01min\u001b[39;00m \u001b[38;5;28mrange\u001b[39m(epochs):\n\u001b[1;32m----> 6\u001b[0m     \u001b[43mtrain_fptt\u001b[49m\u001b[43m(\u001b[49m\n\u001b[0;32m      7\u001b[0m \u001b[43m        \u001b[49m\u001b[43mepoch\u001b[49m\u001b[43m,\u001b[49m\n\u001b[0;32m      8\u001b[0m \u001b[43m        \u001b[49m\u001b[43mbatch_size\u001b[49m\u001b[43m,\u001b[49m\n\u001b[0;32m      9\u001b[0m \u001b[43m        \u001b[49m\u001b[43mlog_interval\u001b[49m\u001b[43m,\u001b[49m\n\u001b[0;32m     10\u001b[0m \u001b[43m        \u001b[49m\u001b[43mtrain_loader\u001b[49m\u001b[43m,\u001b[49m\n\u001b[0;32m     11\u001b[0m \u001b[43m        \u001b[49m\u001b[43mmodel\u001b[49m\u001b[43m,\u001b[49m\n\u001b[0;32m     12\u001b[0m \u001b[43m        \u001b[49m\u001b[43mnamed_params\u001b[49m\u001b[43m,\u001b[49m\n\u001b[0;32m     13\u001b[0m \u001b[43m        \u001b[49m\u001b[43mT\u001b[49m\u001b[43m,\u001b[49m\n\u001b[0;32m     14\u001b[0m \u001b[43m        \u001b[49m\u001b[43mK\u001b[49m\u001b[43m,\u001b[49m\n\u001b[0;32m     15\u001b[0m \u001b[43m        \u001b[49m\u001b[43momega\u001b[49m\u001b[43m,\u001b[49m\n\u001b[0;32m     16\u001b[0m \u001b[43m        \u001b[49m\u001b[43moptimizer\u001b[49m\u001b[43m,\u001b[49m\n\u001b[0;32m     17\u001b[0m \u001b[43m        \u001b[49m\u001b[43mclf_alpha\u001b[49m\u001b[43m,\u001b[49m\n\u001b[0;32m     18\u001b[0m \u001b[43m        \u001b[49m\u001b[43menergy_alpha\u001b[49m\u001b[43m,\u001b[49m\n\u001b[0;32m     19\u001b[0m \u001b[43m        \u001b[49m\u001b[43mspike_alpha\u001b[49m\u001b[43m,\u001b[49m\n\u001b[0;32m     20\u001b[0m \u001b[43m        \u001b[49m\u001b[43mclip\u001b[49m\u001b[43m,\u001b[49m\n\u001b[0;32m     21\u001b[0m \u001b[43m        \u001b[49m\u001b[43mlr\u001b[49m\u001b[43m,\u001b[49m\n\u001b[0;32m     22\u001b[0m \u001b[43m        \u001b[49m\u001b[43malpha\u001b[49m\u001b[43m,\u001b[49m\n\u001b[0;32m     23\u001b[0m \u001b[43m        \u001b[49m\u001b[43mbeta\u001b[49m\u001b[43m,\u001b[49m\n\u001b[0;32m     24\u001b[0m \u001b[43m        \u001b[49m\u001b[43mrho\u001b[49m\n\u001b[0;32m     25\u001b[0m \u001b[43m    \u001b[49m\u001b[43m)\u001b[49m\n\u001b[0;32m     27\u001b[0m     reset_named_params(named_params)\n\u001b[0;32m     29\u001b[0m     test_loss, acc1 \u001b[38;5;241m=\u001b[39m test(model, test_loader, T)\n",
      "File \u001b[1;32mc:\\Users\\hoshelee\\OneDrive - Rewire\\Documents\\Personal\\University\\NDDL\\predictive-coding-snn\\predcoding\\training.py:87\u001b[0m, in \u001b[0;36mtrain_fptt\u001b[1;34m(epoch, batch_size, log_interval, train_loader, model, named_params, time_steps, k_updates, omega, optimizer, clf_alpha, energy_alpha, spike_alpha, clip, lr, alpha, beta, rho)\u001b[0m\n\u001b[0;32m     84\u001b[0m \u001b[38;5;28;01melse\u001b[39;00m:\n\u001b[0;32m     85\u001b[0m     h, readout \u001b[38;5;241m=\u001b[39m [v\u001b[38;5;241m.\u001b[39mdetach() \u001b[38;5;28;01mfor\u001b[39;00m v \u001b[38;5;129;01min\u001b[39;00m h], readout\u001b[38;5;241m.\u001b[39mdetach()\n\u001b[1;32m---> 87\u001b[0m o, h, readout \u001b[38;5;241m=\u001b[39m \u001b[43mmodel\u001b[49m\u001b[38;5;241;43m.\u001b[39;49m\u001b[43mforward\u001b[49m\u001b[43m(\u001b[49m\u001b[43mdata\u001b[49m\u001b[43m,\u001b[49m\u001b[43m \u001b[49m\u001b[43mh\u001b[49m\u001b[43m,\u001b[49m\u001b[43m \u001b[49m\u001b[43mreadout\u001b[49m\u001b[43m)\u001b[49m\n\u001b[0;32m     89\u001b[0m \u001b[38;5;66;03m# get prediction\u001b[39;00m\n\u001b[0;32m     90\u001b[0m \u001b[38;5;28;01mif\u001b[39;00m t \u001b[38;5;241m==\u001b[39m (time_steps \u001b[38;5;241m-\u001b[39m \u001b[38;5;241m1\u001b[39m):\n",
      "File \u001b[1;32mc:\\Users\\hoshelee\\OneDrive - Rewire\\Documents\\Personal\\University\\NDDL\\predictive-coding-snn\\predcoding\\snn\\network.py:89\u001b[0m, in \u001b[0;36mEnergySNN.forward\u001b[1;34m(self, x_t, histories, readout)\u001b[0m\n\u001b[0;32m     85\u001b[0m \u001b[38;5;28;01mdef\u001b[39;00m \u001b[38;5;21mforward\u001b[39m(\n\u001b[0;32m     86\u001b[0m     \u001b[38;5;28mself\u001b[39m, x_t, histories: \u001b[38;5;28mlist\u001b[39m[LayerHistory], readout: torch\u001b[38;5;241m.\u001b[39mFloatTensor\n\u001b[0;32m     87\u001b[0m ) \u001b[38;5;241m-\u001b[39m\u001b[38;5;241m>\u001b[39m \u001b[38;5;28mtuple\u001b[39m[torch\u001b[38;5;241m.\u001b[39mFloatTensor, \u001b[38;5;28mlist\u001b[39m[LayerHistory], torch\u001b[38;5;241m.\u001b[39mFloatTensor]:\n\u001b[0;32m     88\u001b[0m     batch_dim, input_size \u001b[38;5;241m=\u001b[39m x_t\u001b[38;5;241m.\u001b[39mshape\n\u001b[1;32m---> 89\u001b[0m     x_t \u001b[38;5;241m=\u001b[39m \u001b[38;5;28;43mself\u001b[39;49m\u001b[38;5;241;43m.\u001b[39;49m\u001b[43mdropout\u001b[49m\u001b[43m(\u001b[49m\u001b[43mx_t\u001b[49m\u001b[38;5;241;43m.\u001b[39;49m\u001b[43mreshape\u001b[49m\u001b[43m(\u001b[49m\u001b[43mbatch_dim\u001b[49m\u001b[43m,\u001b[49m\u001b[43m \u001b[49m\u001b[43minput_size\u001b[49m\u001b[43m)\u001b[49m\u001b[38;5;241;43m.\u001b[39;49m\u001b[43mfloat\u001b[49m\u001b[43m(\u001b[49m\u001b[43m)\u001b[49m\u001b[43m \u001b[49m\u001b[38;5;241;43m*\u001b[39;49m\u001b[43m \u001b[49m\u001b[38;5;241;43m0.5\u001b[39;49m\u001b[43m)\u001b[49m\n\u001b[0;32m     90\u001b[0m     spikes \u001b[38;5;241m=\u001b[39m x_t\n\u001b[0;32m     92\u001b[0m     new_histories \u001b[38;5;241m=\u001b[39m []\n",
      "File \u001b[1;32mc:\\Users\\hoshelee\\OneDrive - Rewire\\Documents\\Personal\\University\\NDDL\\predictive-coding-snn\\.venv\\Lib\\site-packages\\torch\\nn\\modules\\module.py:1736\u001b[0m, in \u001b[0;36mModule._wrapped_call_impl\u001b[1;34m(self, *args, **kwargs)\u001b[0m\n\u001b[0;32m   1734\u001b[0m     \u001b[38;5;28;01mreturn\u001b[39;00m \u001b[38;5;28mself\u001b[39m\u001b[38;5;241m.\u001b[39m_compiled_call_impl(\u001b[38;5;241m*\u001b[39margs, \u001b[38;5;241m*\u001b[39m\u001b[38;5;241m*\u001b[39mkwargs)  \u001b[38;5;66;03m# type: ignore[misc]\u001b[39;00m\n\u001b[0;32m   1735\u001b[0m \u001b[38;5;28;01melse\u001b[39;00m:\n\u001b[1;32m-> 1736\u001b[0m     \u001b[38;5;28;01mreturn\u001b[39;00m \u001b[38;5;28;43mself\u001b[39;49m\u001b[38;5;241;43m.\u001b[39;49m\u001b[43m_call_impl\u001b[49m\u001b[43m(\u001b[49m\u001b[38;5;241;43m*\u001b[39;49m\u001b[43margs\u001b[49m\u001b[43m,\u001b[49m\u001b[43m \u001b[49m\u001b[38;5;241;43m*\u001b[39;49m\u001b[38;5;241;43m*\u001b[39;49m\u001b[43mkwargs\u001b[49m\u001b[43m)\u001b[49m\n",
      "File \u001b[1;32mc:\\Users\\hoshelee\\OneDrive - Rewire\\Documents\\Personal\\University\\NDDL\\predictive-coding-snn\\.venv\\Lib\\site-packages\\torch\\nn\\modules\\module.py:1747\u001b[0m, in \u001b[0;36mModule._call_impl\u001b[1;34m(self, *args, **kwargs)\u001b[0m\n\u001b[0;32m   1742\u001b[0m \u001b[38;5;66;03m# If we don't have any hooks, we want to skip the rest of the logic in\u001b[39;00m\n\u001b[0;32m   1743\u001b[0m \u001b[38;5;66;03m# this function, and just call forward.\u001b[39;00m\n\u001b[0;32m   1744\u001b[0m \u001b[38;5;28;01mif\u001b[39;00m \u001b[38;5;129;01mnot\u001b[39;00m (\u001b[38;5;28mself\u001b[39m\u001b[38;5;241m.\u001b[39m_backward_hooks \u001b[38;5;129;01mor\u001b[39;00m \u001b[38;5;28mself\u001b[39m\u001b[38;5;241m.\u001b[39m_backward_pre_hooks \u001b[38;5;129;01mor\u001b[39;00m \u001b[38;5;28mself\u001b[39m\u001b[38;5;241m.\u001b[39m_forward_hooks \u001b[38;5;129;01mor\u001b[39;00m \u001b[38;5;28mself\u001b[39m\u001b[38;5;241m.\u001b[39m_forward_pre_hooks\n\u001b[0;32m   1745\u001b[0m         \u001b[38;5;129;01mor\u001b[39;00m _global_backward_pre_hooks \u001b[38;5;129;01mor\u001b[39;00m _global_backward_hooks\n\u001b[0;32m   1746\u001b[0m         \u001b[38;5;129;01mor\u001b[39;00m _global_forward_hooks \u001b[38;5;129;01mor\u001b[39;00m _global_forward_pre_hooks):\n\u001b[1;32m-> 1747\u001b[0m     \u001b[38;5;28;01mreturn\u001b[39;00m \u001b[43mforward_call\u001b[49m\u001b[43m(\u001b[49m\u001b[38;5;241;43m*\u001b[39;49m\u001b[43margs\u001b[49m\u001b[43m,\u001b[49m\u001b[43m \u001b[49m\u001b[38;5;241;43m*\u001b[39;49m\u001b[38;5;241;43m*\u001b[39;49m\u001b[43mkwargs\u001b[49m\u001b[43m)\u001b[49m\n\u001b[0;32m   1749\u001b[0m result \u001b[38;5;241m=\u001b[39m \u001b[38;5;28;01mNone\u001b[39;00m\n\u001b[0;32m   1750\u001b[0m called_always_called_hooks \u001b[38;5;241m=\u001b[39m \u001b[38;5;28mset\u001b[39m()\n",
      "File \u001b[1;32mc:\\Users\\hoshelee\\OneDrive - Rewire\\Documents\\Personal\\University\\NDDL\\predictive-coding-snn\\.venv\\Lib\\site-packages\\torch\\nn\\modules\\dropout.py:70\u001b[0m, in \u001b[0;36mDropout.forward\u001b[1;34m(self, input)\u001b[0m\n\u001b[0;32m     69\u001b[0m \u001b[38;5;28;01mdef\u001b[39;00m \u001b[38;5;21mforward\u001b[39m(\u001b[38;5;28mself\u001b[39m, \u001b[38;5;28minput\u001b[39m: Tensor) \u001b[38;5;241m-\u001b[39m\u001b[38;5;241m>\u001b[39m Tensor:\n\u001b[1;32m---> 70\u001b[0m     \u001b[38;5;28;01mreturn\u001b[39;00m \u001b[43mF\u001b[49m\u001b[38;5;241;43m.\u001b[39;49m\u001b[43mdropout\u001b[49m\u001b[43m(\u001b[49m\u001b[38;5;28;43minput\u001b[39;49m\u001b[43m,\u001b[49m\u001b[43m \u001b[49m\u001b[38;5;28;43mself\u001b[39;49m\u001b[38;5;241;43m.\u001b[39;49m\u001b[43mp\u001b[49m\u001b[43m,\u001b[49m\u001b[43m \u001b[49m\u001b[38;5;28;43mself\u001b[39;49m\u001b[38;5;241;43m.\u001b[39;49m\u001b[43mtraining\u001b[49m\u001b[43m,\u001b[49m\u001b[43m \u001b[49m\u001b[38;5;28;43mself\u001b[39;49m\u001b[38;5;241;43m.\u001b[39;49m\u001b[43minplace\u001b[49m\u001b[43m)\u001b[49m\n",
      "File \u001b[1;32mc:\\Users\\hoshelee\\OneDrive - Rewire\\Documents\\Personal\\University\\NDDL\\predictive-coding-snn\\.venv\\Lib\\site-packages\\torch\\nn\\functional.py:1425\u001b[0m, in \u001b[0;36mdropout\u001b[1;34m(input, p, training, inplace)\u001b[0m\n\u001b[0;32m   1422\u001b[0m \u001b[38;5;28;01mif\u001b[39;00m p \u001b[38;5;241m<\u001b[39m \u001b[38;5;241m0.0\u001b[39m \u001b[38;5;129;01mor\u001b[39;00m p \u001b[38;5;241m>\u001b[39m \u001b[38;5;241m1.0\u001b[39m:\n\u001b[0;32m   1423\u001b[0m     \u001b[38;5;28;01mraise\u001b[39;00m \u001b[38;5;167;01mValueError\u001b[39;00m(\u001b[38;5;124mf\u001b[39m\u001b[38;5;124m\"\u001b[39m\u001b[38;5;124mdropout probability has to be between 0 and 1, but got \u001b[39m\u001b[38;5;132;01m{\u001b[39;00mp\u001b[38;5;132;01m}\u001b[39;00m\u001b[38;5;124m\"\u001b[39m)\n\u001b[0;32m   1424\u001b[0m \u001b[38;5;28;01mreturn\u001b[39;00m (\n\u001b[1;32m-> 1425\u001b[0m     _VF\u001b[38;5;241m.\u001b[39mdropout_(\u001b[38;5;28minput\u001b[39m, p, training) \u001b[38;5;28;01mif\u001b[39;00m inplace \u001b[38;5;28;01melse\u001b[39;00m \u001b[43m_VF\u001b[49m\u001b[38;5;241;43m.\u001b[39;49m\u001b[43mdropout\u001b[49m\u001b[43m(\u001b[49m\u001b[38;5;28;43minput\u001b[39;49m\u001b[43m,\u001b[49m\u001b[43m \u001b[49m\u001b[43mp\u001b[49m\u001b[43m,\u001b[49m\u001b[43m \u001b[49m\u001b[43mtraining\u001b[49m\u001b[43m)\u001b[49m\n\u001b[0;32m   1426\u001b[0m )\n",
      "\u001b[1;31mKeyboardInterrupt\u001b[0m: "
     ]
    }
   ],
   "source": [
    "named_params = get_stats_named_params(model)\n",
    "all_test_losses = []\n",
    "best_acc1 = 0\n",
    "\n",
    "for epoch in range(epochs):\n",
    "    train_fptt(\n",
    "        epoch,\n",
    "        batch_size,\n",
    "        log_interval,\n",
    "        train_loader,\n",
    "        model,\n",
    "        named_params,\n",
    "        T,\n",
    "        K,\n",
    "        omega,\n",
    "        optimizer,\n",
    "        clf_alpha,\n",
    "        energy_alpha,\n",
    "        spike_alpha,\n",
    "        clip,\n",
    "        lr,\n",
    "        alpha,\n",
    "        beta,\n",
    "        rho\n",
    "    )\n",
    "\n",
    "    reset_named_params(named_params)\n",
    "\n",
    "    test_loss, acc1 = test(model, test_loader, T)\n",
    "\n",
    "    scheduler.step()\n",
    "\n",
    "    # remember best acc@1 and save checkpoint\n",
    "    is_best = acc1 > best_acc1\n",
    "    best_acc1 = max(acc1, best_acc1)\n",
    "\n",
    "    if is_best:\n",
    "        save_checkpoint(\n",
    "            {\n",
    "                \"epoch\": epoch + 1,\n",
    "                \"state_dict\": model.state_dict(),\n",
    "                \"best_acc1\": best_acc1,\n",
    "                \"optimizer\": optimizer.state_dict(),\n",
    "            },\n",
    "            prefix=\"checkpoints/\",\n",
    "            filename=\"best_model.pt.tar\",\n",
    "        )\n",
    "\n",
    "    all_test_losses.append(test_loss)"
   ]
  },
  {
   "cell_type": "markdown",
   "metadata": {
    "id": "__LVbhpNtdnv"
   },
   "source": [
    "## Clamping"
   ]
  },
  {
   "cell_type": "code",
   "execution_count": 6,
   "metadata": {},
   "outputs": [
    {
     "data": {
      "text/plain": [
       "<All keys matched successfully>"
      ]
     },
     "execution_count": 6,
     "metadata": {},
     "output_type": "execute_result"
    }
   ],
   "source": [
    "from predcoding.utils import model_result_dict_load\n",
    "saved_dict = model_result_dict_load('./checkpoints/best_model.pt.tar')\n",
    "model.load_state_dict(saved_dict['state_dict'])"
   ]
  },
  {
   "cell_type": "code",
   "execution_count": 8,
   "metadata": {
    "colab": {
     "base_uri": "https://localhost:8080/"
    },
    "id": "B8wz4RNylrN9",
    "outputId": "6b3f5908-cbd7-4319-a375-a0a48408175a"
   },
   "outputs": [
    {
     "name": "stderr",
     "output_type": "stream",
     "text": [
      "100%|██████████| 50/50 [00:30<00:00,  1.64it/s]"
     ]
    },
    {
     "name": "stdout",
     "output_type": "stream",
     "text": [
      "\n",
      "Test set: Average loss: 0.3450, Accuracy: 8893/10000 (89%)\n",
      "\n"
     ]
    },
    {
     "name": "stderr",
     "output_type": "stream",
     "text": [
      "\n"
     ]
    },
    {
     "data": {
      "text/plain": [
       "(0.3450206427574158, tensor(88.9300))"
      ]
     },
     "execution_count": 8,
     "metadata": {},
     "output_type": "execute_result"
    }
   ],
   "source": [
    "model.eval()\n",
    "test(model, test_loader, T)"
   ]
  },
  {
   "cell_type": "code",
   "execution_count": 9,
   "metadata": {
    "colab": {
     "base_uri": "https://localhost:8080/"
    },
    "id": "gG1lxK_jEumU",
    "outputId": "cbfb3a92-bbe2-4794-b415-1b851f6177e7"
   },
   "outputs": [
    {
     "name": "stdout",
     "output_type": "stream",
     "text": [
      "['input_layer.weight', 'input_layer.bias', 'output_layer.tau_m', 'output_layer.fc.weight', 'output_layer.fc.bias']\n"
     ]
    }
   ],
   "source": [
    "# get params and put into dict\n",
    "param_names_wE = []\n",
    "param_dict_wE = {}\n",
    "for name, param in model.named_parameters():\n",
    "    if param.requires_grad:\n",
    "        param_names_wE.append(name)\n",
    "\n",
    "print(param_names_wE)"
   ]
  },
  {
   "cell_type": "code",
   "execution_count": 20,
   "metadata": {
    "colab": {
     "base_uri": "https://localhost:8080/"
    },
    "id": "9vAePjZCCjok",
    "outputId": "94d15376-38f3-45df-a5f3-da21d33fc3bd"
   },
   "outputs": [
    {
     "name": "stderr",
     "output_type": "stream",
     "text": [
      " 10%|█         | 1/10 [00:00<00:02,  3.32it/s]"
     ]
    },
    {
     "name": "stdout",
     "output_type": "stream",
     "text": [
      "GET_STATES SHAPE (1, 250, 1, 600)\n",
      "TRANSPOSE SHAPE (1, 1, 250, 600)\n",
      "SHAPES (1, 250, 600)\n",
      "GET_STATES SHAPE (1, 250, 1, 500)\n",
      "TRANSPOSE SHAPE (1, 1, 250, 500)\n",
      "SHAPES (1, 250, 500)\n",
      "GET_STATES SHAPE (1, 250, 1, 500)\n",
      "TRANSPOSE SHAPE (1, 1, 250, 500)\n",
      "SHAPES (1, 250, 500)\n",
      "(1, 250, 600)\n"
     ]
    },
    {
     "name": "stderr",
     "output_type": "stream",
     "text": [
      " 20%|██        | 2/10 [00:00<00:02,  3.18it/s]"
     ]
    },
    {
     "name": "stdout",
     "output_type": "stream",
     "text": [
      "GET_STATES SHAPE (1, 250, 1, 600)\n",
      "TRANSPOSE SHAPE (1, 1, 250, 600)\n",
      "SHAPES (1, 250, 600)\n",
      "GET_STATES SHAPE (1, 250, 1, 500)\n",
      "TRANSPOSE SHAPE (1, 1, 250, 500)\n",
      "SHAPES (1, 250, 500)\n",
      "GET_STATES SHAPE (1, 250, 1, 500)\n",
      "TRANSPOSE SHAPE (1, 1, 250, 500)\n",
      "SHAPES (1, 250, 500)\n",
      "(1, 250, 600)\n"
     ]
    },
    {
     "name": "stderr",
     "output_type": "stream",
     "text": [
      " 30%|███       | 3/10 [00:00<00:02,  3.35it/s]"
     ]
    },
    {
     "name": "stdout",
     "output_type": "stream",
     "text": [
      "GET_STATES SHAPE (1, 250, 1, 600)\n",
      "TRANSPOSE SHAPE (1, 1, 250, 600)\n",
      "SHAPES (1, 250, 600)\n",
      "GET_STATES SHAPE (1, 250, 1, 500)\n",
      "TRANSPOSE SHAPE (1, 1, 250, 500)\n",
      "SHAPES (1, 250, 500)\n",
      "GET_STATES SHAPE (1, 250, 1, 500)\n",
      "TRANSPOSE SHAPE (1, 1, 250, 500)\n",
      "SHAPES (1, 250, 500)\n",
      "(1, 250, 600)\n"
     ]
    },
    {
     "name": "stderr",
     "output_type": "stream",
     "text": [
      " 40%|████      | 4/10 [00:01<00:02,  2.87it/s]"
     ]
    },
    {
     "name": "stdout",
     "output_type": "stream",
     "text": [
      "GET_STATES SHAPE (1, 250, 1, 600)\n",
      "TRANSPOSE SHAPE (1, 1, 250, 600)\n",
      "SHAPES (1, 250, 600)\n",
      "GET_STATES SHAPE (1, 250, 1, 500)\n",
      "TRANSPOSE SHAPE (1, 1, 250, 500)\n",
      "SHAPES (1, 250, 500)\n",
      "GET_STATES SHAPE (1, 250, 1, 500)\n",
      "TRANSPOSE SHAPE (1, 1, 250, 500)\n",
      "SHAPES (1, 250, 500)\n",
      "(1, 250, 600)\n"
     ]
    },
    {
     "name": "stderr",
     "output_type": "stream",
     "text": [
      " 50%|█████     | 5/10 [00:01<00:01,  2.84it/s]"
     ]
    },
    {
     "name": "stdout",
     "output_type": "stream",
     "text": [
      "GET_STATES SHAPE (1, 250, 1, 600)\n",
      "TRANSPOSE SHAPE (1, 1, 250, 600)\n",
      "SHAPES (1, 250, 600)\n",
      "GET_STATES SHAPE (1, 250, 1, 500)\n",
      "TRANSPOSE SHAPE (1, 1, 250, 500)\n",
      "SHAPES (1, 250, 500)\n",
      "GET_STATES SHAPE (1, 250, 1, 500)\n",
      "TRANSPOSE SHAPE (1, 1, 250, 500)\n",
      "SHAPES (1, 250, 500)\n",
      "(1, 250, 600)\n"
     ]
    },
    {
     "name": "stderr",
     "output_type": "stream",
     "text": [
      " 60%|██████    | 6/10 [00:02<00:01,  2.85it/s]"
     ]
    },
    {
     "name": "stdout",
     "output_type": "stream",
     "text": [
      "GET_STATES SHAPE (1, 250, 1, 600)\n",
      "TRANSPOSE SHAPE (1, 1, 250, 600)\n",
      "SHAPES (1, 250, 600)\n",
      "GET_STATES SHAPE (1, 250, 1, 500)\n",
      "TRANSPOSE SHAPE (1, 1, 250, 500)\n",
      "SHAPES (1, 250, 500)\n",
      "GET_STATES SHAPE (1, 250, 1, 500)\n",
      "TRANSPOSE SHAPE (1, 1, 250, 500)\n",
      "SHAPES (1, 250, 500)\n",
      "(1, 250, 600)\n"
     ]
    },
    {
     "name": "stderr",
     "output_type": "stream",
     "text": [
      " 70%|███████   | 7/10 [00:02<00:01,  2.91it/s]"
     ]
    },
    {
     "name": "stdout",
     "output_type": "stream",
     "text": [
      "GET_STATES SHAPE (1, 250, 1, 600)\n",
      "TRANSPOSE SHAPE (1, 1, 250, 600)\n",
      "SHAPES (1, 250, 600)\n",
      "GET_STATES SHAPE (1, 250, 1, 500)\n",
      "TRANSPOSE SHAPE (1, 1, 250, 500)\n",
      "SHAPES (1, 250, 500)\n",
      "GET_STATES SHAPE (1, 250, 1, 500)\n",
      "TRANSPOSE SHAPE (1, 1, 250, 500)\n",
      "SHAPES (1, 250, 500)\n",
      "(1, 250, 600)\n"
     ]
    },
    {
     "name": "stderr",
     "output_type": "stream",
     "text": [
      " 80%|████████  | 8/10 [00:02<00:00,  2.83it/s]"
     ]
    },
    {
     "name": "stdout",
     "output_type": "stream",
     "text": [
      "GET_STATES SHAPE (1, 250, 1, 600)\n",
      "TRANSPOSE SHAPE (1, 1, 250, 600)\n",
      "SHAPES (1, 250, 600)\n",
      "GET_STATES SHAPE (1, 250, 1, 500)\n",
      "TRANSPOSE SHAPE (1, 1, 250, 500)\n",
      "SHAPES (1, 250, 500)\n",
      "GET_STATES SHAPE (1, 250, 1, 500)\n",
      "TRANSPOSE SHAPE (1, 1, 250, 500)\n",
      "SHAPES (1, 250, 500)\n",
      "(1, 250, 600)\n"
     ]
    },
    {
     "name": "stderr",
     "output_type": "stream",
     "text": [
      " 90%|█████████ | 9/10 [00:03<00:00,  2.76it/s]"
     ]
    },
    {
     "name": "stdout",
     "output_type": "stream",
     "text": [
      "GET_STATES SHAPE (1, 250, 1, 600)\n",
      "TRANSPOSE SHAPE (1, 1, 250, 600)\n",
      "SHAPES (1, 250, 600)\n",
      "GET_STATES SHAPE (1, 250, 1, 500)\n",
      "TRANSPOSE SHAPE (1, 1, 250, 500)\n",
      "SHAPES (1, 250, 500)\n",
      "GET_STATES SHAPE (1, 250, 1, 500)\n",
      "TRANSPOSE SHAPE (1, 1, 250, 500)\n",
      "SHAPES (1, 250, 500)\n",
      "(1, 250, 600)\n"
     ]
    },
    {
     "name": "stderr",
     "output_type": "stream",
     "text": [
      "100%|██████████| 10/10 [00:03<00:00,  2.93it/s]"
     ]
    },
    {
     "name": "stdout",
     "output_type": "stream",
     "text": [
      "GET_STATES SHAPE (1, 250, 1, 600)\n",
      "TRANSPOSE SHAPE (1, 1, 250, 600)\n",
      "SHAPES (1, 250, 600)\n",
      "GET_STATES SHAPE (1, 250, 1, 500)\n",
      "TRANSPOSE SHAPE (1, 1, 250, 500)\n",
      "SHAPES (1, 250, 500)\n",
      "GET_STATES SHAPE (1, 250, 1, 500)\n",
      "TRANSPOSE SHAPE (1, 1, 250, 500)\n",
      "SHAPES (1, 250, 500)\n",
      "(1, 250, 600)\n"
     ]
    },
    {
     "name": "stderr",
     "output_type": "stream",
     "text": [
      "\n"
     ]
    }
   ],
   "source": [
    "from predcoding.experiments.decoder import get_states\n",
    "\n",
    "# clamped generation of internal representations\n",
    "no_input = torch.zeros((1, d_in)).to(device)\n",
    "clamp_T = T * 5\n",
    "\n",
    "\n",
    "l1_clamp_E = np.zeros((10, d_hidden[0]))\n",
    "l2_clamp_E = np.zeros((10, d_hidden[1]))\n",
    "l3_clamp_E = np.zeros((10, d_hidden[2]))\n",
    "\n",
    "\n",
    "for i in tqdm(range(10)):\n",
    "    with torch.no_grad():\n",
    "        model.eval()\n",
    "\n",
    "        hidden_i, readout_i = model.init_hidden(1)\n",
    "\n",
    "        _, hidden_gen_E_ = model.clamped_generate(i, no_input, hidden_i, readout_i, clamp_T, clamp_value=1)\n",
    "\n",
    "        #\n",
    "        l1_E = get_states([hidden_gen_E_], 0, d_hidden[0], batch_size=1, T=clamp_T, num_samples=1)\n",
    "        l2_E = get_states([hidden_gen_E_], 1, d_hidden[1], batch_size=1, T=clamp_T, num_samples=1)\n",
    "        l3_E = get_states([hidden_gen_E_], 2, d_hidden[2], batch_size=1, T=clamp_T, num_samples=1)\n",
    "\n",
    "        print(l1_E.shape)\n",
    "\n",
    "        l1_clamp_E[i] += np.squeeze(l1_E.mean(axis=1))\n",
    "        l2_clamp_E[i] += np.squeeze(l2_E.mean(axis=1))\n",
    "        l3_clamp_E[i] += np.squeeze(l3_E.mean(axis=1))\n",
    "\n",
    "    torch.cuda.empty_cache()"
   ]
  },
  {
   "cell_type": "code",
   "execution_count": null,
   "metadata": {
    "colab": {
     "base_uri": "https://localhost:8080/",
     "height": 1000
    },
    "id": "tKb_uqaaw0Te",
    "outputId": "cea965e2-0fb3-4e46-c9c8-e6749192100d"
   },
   "outputs": [
    {
     "name": "stderr",
     "output_type": "stream",
     "text": [
      "  0%|          | 0/20 [00:00<?, ?it/s]"
     ]
    },
    {
     "name": "stdout",
     "output_type": "stream",
     "text": [
      "0 train loss: 0.2183\n"
     ]
    },
    {
     "data": {
      "image/png": "[encoded data removed]",
      "text/plain": [
       "<Figure size 640x480 with 1 Axes>"
      ]
     },
     "metadata": {},
     "output_type": "display_data"
    },
    {
     "name": "stderr",
     "output_type": "stream",
     "text": [
      "  5%|▌         | 1/20 [00:35<11:20, 35.79s/it]"
     ]
    }
   ],
   "source": [
    "##############################################################\n",
    "# decode from clamped representations\n",
    "##############################################################\n",
    "no_input = torch.zeros((1, d_in)).to(device)\n",
    "\n",
    "fn_loss = nn.MSELoss()\n",
    "test_loader2 = torch.utils.data.DataLoader(\n",
    "    testdata, batch_size=batch_size, shuffle=False, num_workers=2\n",
    ")\n",
    "\n",
    "# %%\n",
    "def plot_projection(rep, label, weights, bias):\n",
    "    img = (weights @ rep + bias).reshape(28, 28)\n",
    "    plt.imshow(img)\n",
    "    plt.title(str(label))\n",
    "    plt.show()\n",
    "    return img\n",
    "\n",
    "\n",
    "# %%\n",
    "layer = 1\n",
    "l2_E_decoder, loss_E = train_linear_proj(\n",
    "    layer, model, test_loader2, d_hidden[layer], d_in, batch_size, T, device, fn_loss\n",
    ")\n",
    "\n",
    "decoders = [l2_E_decoder]\n",
    "\n",
    "# %%\n",
    "# plot loss curve of training\n",
    "colors = [\n",
    "    (0.1271049596309112, 0.4401845444059977, 0.7074971164936563),\n",
    "    (0.9949711649365629, 0.5974778931180315, 0.15949250288350636),\n",
    "]\n",
    "sns.set_style(\"whitegrid\", {\"axes.grid\": False})\n",
    "\n",
    "fig, ax = plt.subplots(figsize=(5, 4))\n",
    "plt.rcParams.update({\"font.size\": 14})\n",
    "\n",
    "ax.plot(loss_E, label=\"Energy L%i\" % (layer + 1), color=colors[0])\n",
    "ax.legend()\n",
    "# frame off\n",
    "ax.spines[[\"right\", \"top\"]].set_visible(False)\n",
    "ax.set_ylabel(\"MES loss\")\n",
    "ax.set_xlabel(\"steps\")\n",
    "plt.legend(frameon=False)\n",
    "# increase font size\n",
    "plt.show()"
   ]
  },
  {
   "cell_type": "code",
   "execution_count": null,
   "metadata": {
    "colab": {
     "base_uri": "https://localhost:8080/",
     "height": 188
    },
    "id": "R3b_S8msxjWN",
    "outputId": "06ddf57d-e697-4878-be6d-f26652668595"
   },
   "outputs": [
    {
     "data": {
      "image/png": "[encoded data removed]",
      "text/plain": [
       "<Figure size 1000x200 with 10 Axes>"
      ]
     },
     "metadata": {},
     "output_type": "display_data"
    }
   ],
   "source": [
    "# plot decoding of clamped internal representations\n",
    "fig, axes = plt.subplots(1, 10, figsize=(10, 2))\n",
    "\n",
    "with torch.no_grad():\n",
    "    for proj_class in range(n_classes):\n",
    "        img1 = (\n",
    "            decoders[0](\n",
    "                torch.tensor(l2_clamp_E[proj_class].astype(\"float32\"))\n",
    "                .to(device)\n",
    "                .view(-1, d_hidden[layer])\n",
    "            )\n",
    "            .reshape(28, 28)\n",
    "            .cpu()\n",
    "        )\n",
    "        axes[proj_class].imshow(img1, cmap=\"viridis\")\n",
    "        axes[proj_class].set_title(str(proj_class))\n",
    "        # axes[0][proj_class].axis('off')\n",
    "        axes[proj_class].tick_params(\n",
    "            left=False, right=False, labelleft=False, labelbottom=False, bottom=False\n",
    "        )\n",
    "\n",
    "fig.suptitle(\"projection from clampled rep back to image plane layer %i\" % (layer + 1))\n",
    "axes[0].set_ylabel(\"Energy\", rotation=0, labelpad=40)\n",
    "\n",
    "plt.tight_layout()\n",
    "plt.show()"
   ]
  },
  {
   "cell_type": "code",
   "execution_count": null,
   "metadata": {
    "id": "NfPXz2_qBjxm"
   },
   "outputs": [],
   "source": []
  }
 ],
 "metadata": {
  "accelerator": "GPU",
  "colab": {
   "provenance": []
  },
  "kernelspec": {
   "display_name": ".venv",
   "language": "python",
   "name": "python3"
  },
  "language_info": {
   "codemirror_mode": {
    "name": "ipython",
    "version": 3
   },
   "file_extension": ".py",
   "mimetype": "text/x-python",
   "name": "python",
   "nbconvert_exporter": "python",
   "pygments_lexer": "ipython3",
   "version": "3.12.5"
  }
 },
 "nbformat": 4,
 "nbformat_minor": 0
}
