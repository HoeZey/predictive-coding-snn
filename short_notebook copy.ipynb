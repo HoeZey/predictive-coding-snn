{
 "cells": [
  {
   "cell_type": "markdown",
   "metadata": {
    "id": "RMA-943Aev9e"
   },
   "source": [
    "# Spiking multicompartment PC network\n",
    "\n",
    "## Abstract\n",
    "Predictive coding is a promising theoretical framework for understanding the hierarchical sensory processing in the brain, yet how it is implemented with cortical spiking neurons is still unclear. While most existing works have taken a hand-wiring approach to creating microcircuits which match experimental results, recent work in applying the optimisation approach revealed that cortical connectivity might result from self-organisation given some fundamental computational principle, ie. energy efficiency. We thus investigated whether predictive coding properties in a multicompartment spiking neural network can result from energy optimisation. We found that only the model trained with an energy objective in addition to a task-relevant objective was able to reconstruct internal representations given top-down expectation signals alone. Neurons in the energy-optimised model also showed differential responses to expected vs unexpected stimuli, qualitatively similar to experimental evidence for predictive coding. These findings indicated that predictive-coding-like behaviour might be an emergent property of energy optimisation, providing a new perspective on how predictive coding could be achieved in the cortex."
   ]
  },
  {
   "cell_type": "code",
   "execution_count": 8,
   "metadata": {
    "colab": {
     "base_uri": "https://localhost:8080/"
    },
    "id": "9e5fUxmZcxfc",
    "outputId": "87a4b8e1-ab15-4a24-dc7e-20a6796837c3"
   },
   "outputs": [
    {
     "name": "stdout",
     "output_type": "stream",
     "text": [
      "The autoreload extension is already loaded. To reload it, use:\n",
      "  %reload_ext autoreload\n",
      "cpu\n"
     ]
    },
    {
     "data": {
      "text/plain": [
       "<torch._C.Generator at 0x1ab3f60e070>"
      ]
     },
     "execution_count": 8,
     "metadata": {},
     "output_type": "execute_result"
    }
   ],
   "source": [
    "%load_ext autoreload\n",
    "%autoreload 2\n",
    "\n",
    "import torch\n",
    "from predcoding.snn.network import EnergySNN\n",
    "from predcoding.snn.network_old import SnnNetwork3Layer\n",
    "from predcoding.training import get_stats_named_params\n",
    "from predcoding.utils import count_parameters\n",
    "\n",
    "device = torch.device(\"cuda\" if torch.cuda.is_available() else \"cpu\")\n",
    "print(device)\n",
    "\n",
    "# set seed\n",
    "torch.manual_seed(999)"
   ]
  },
  {
   "cell_type": "code",
   "execution_count": 9,
   "metadata": {
    "id": "oaqFPBCFg0vF"
   },
   "outputs": [],
   "source": [
    "# network parameters\n",
    "use_alif_neurons = True  # whether use adaptive neuron or not\n",
    "clf_alpha = 1\n",
    "energy_alpha = 0.05  # - config.clf_alpha\n",
    "spike_alpha = 0.0  # energy loss on spikes\n",
    "num_readout = 10\n",
    "one_to_one = True\n",
    "lr = 1e-3\n",
    "alg = \"fptt\"\n",
    "p_dropout = 0.4\n",
    "is_recurrent = False\n",
    "b_0 = 0.1      # neural threshold baseline\n",
    "R_m = 3         # membrane resistance\n",
    "gamma = 0.5     # gradient scale\n",
    "lens = 0.5\n",
    "baseline_threshold = b_0\n",
    "\n",
    "# training parameters\n",
    "T = 50\n",
    "K = 10  # k_updates is num updates per sequence\n",
    "omega = int(T / K)  # update frequency\n",
    "clip = 1.0\n",
    "log_interval = 20\n",
    "epochs = 35\n",
    "alpha = 0.2\n",
    "beta = 0.5\n",
    "rho = 0.0 "
   ]
  },
  {
   "cell_type": "code",
   "execution_count": 17,
   "metadata": {
    "colab": {
     "base_uri": "https://localhost:8080/"
    },
    "id": "1d1UjhDUjV45",
    "outputId": "7d1ee2d2-8484-4744-c6c8-606b2ad1f912"
   },
   "outputs": [
    {
     "name": "stdout",
     "output_type": "stream",
     "text": [
      "bias set to 0\n",
      "total param count 2450020\n",
      "total param count 2455520\n",
      "(tensor([[0., -0., 0.,  ..., 0., 0., -0.],\n",
      "        [-0., 0., 0.,  ..., -0., -0., 0.],\n",
      "        [-0., 0., -0.,  ..., -0., 0., 0.],\n",
      "        ...,\n",
      "        [-0., 0., 0.,  ..., 0., 0., -0.],\n",
      "        [-0., 0., -0.,  ..., -0., -0., -0.],\n",
      "        [-0., 0., -0.,  ..., -0., -0., 0.]]),)\n"
     ]
    }
   ],
   "source": [
    "# set input and t param\n",
    "d_in = 784\n",
    "d_hidden = [600, 500, 500]\n",
    "n_classes = 10\n",
    "\n",
    "# define network\n",
    "model = EnergySNN(\n",
    "    d_in,\n",
    "    d_hidden,\n",
    "    d_out=n_classes,\n",
    "    is_adaptive=use_alif_neurons,\n",
    "    one_to_one=one_to_one,\n",
    "    p_dropout=p_dropout,\n",
    "    is_recurrent=is_recurrent,\n",
    "    b0=b_0,\n",
    "    device=device,\n",
    ")\n",
    "\n",
    "model_old = SnnNetwork3Layer(\n",
    "    d_in,\n",
    "    d_hidden,\n",
    "    n_classes,\n",
    "    is_adapt=use_alif_neurons,\n",
    "    one_to_one=one_to_one,\n",
    "    dp_rate=p_dropout,\n",
    "    is_rec=is_recurrent,\n",
    ")\n",
    "\n",
    "# define new loss and optimiser\n",
    "print(f\"total param count {count_parameters(model)}\")\n",
    "print(f\"total param count {count_parameters(model_old)}\")\n",
    "\n",
    "print(get_stats_named_params(model)[\"input_layer.weight\"][3:])\n",
    "# print(get_stats_named_params(model_old).keys())"
   ]
  },
  {
   "cell_type": "code",
   "execution_count": null,
   "metadata": {},
   "outputs": [],
   "source": []
  },
  {
   "cell_type": "code",
   "execution_count": null,
   "metadata": {},
   "outputs": [],
   "source": []
  }
 ],
 "metadata": {
  "accelerator": "GPU",
  "colab": {
   "provenance": []
  },
  "kernelspec": {
   "display_name": ".venv",
   "language": "python",
   "name": "python3"
  },
  "language_info": {
   "codemirror_mode": {
    "name": "ipython",
    "version": 3
   },
   "file_extension": ".py",
   "mimetype": "text/x-python",
   "name": "python",
   "nbconvert_exporter": "python",
   "pygments_lexer": "ipython3",
   "version": "3.12.5"
  }
 },
 "nbformat": 4,
 "nbformat_minor": 0
}
